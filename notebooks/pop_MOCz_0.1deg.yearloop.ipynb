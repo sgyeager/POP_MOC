{
 "cells": [
  {
   "cell_type": "markdown",
   "metadata": {
    "tags": []
   },
   "source": [
    "# POP MOC(z) for 0.1-degree\n",
    " - Computes MOC(z) offline from POP history files using simple xhistogram binning"
   ]
  },
  {
   "cell_type": "code",
   "execution_count": 1,
   "metadata": {},
   "outputs": [],
   "source": [
    "%load_ext autoreload\n",
    "%autoreload 2\n",
    "import xarray as xr \n",
    "import numpy as np  \n",
    "import cftime\n",
    "import dask\n",
    "from xhistogram.xarray import histogram\n",
    "import pop_tools\n",
    "import os\n",
    "import time\n",
    "import matplotlib.pyplot as plt\n",
    "%matplotlib inline\n",
    "\n",
    "from MOCutils import popmoc"
   ]
  },
  {
   "cell_type": "code",
   "execution_count": 2,
   "metadata": {},
   "outputs": [
    {
     "data": {
      "text/plain": [
       "'2022.11.0'"
      ]
     },
     "execution_count": 2,
     "metadata": {},
     "output_type": "execute_result"
    }
   ],
   "source": [
    "import dask\n",
    "from dask.distributed import wait\n",
    "dask.__version__"
   ]
  },
  {
   "cell_type": "markdown",
   "metadata": {},
   "source": [
    "### Start Dask Cluster"
   ]
  },
  {
   "cell_type": "code",
   "execution_count": 21,
   "metadata": {
    "tags": []
   },
   "outputs": [],
   "source": [
    "# Close out Dask Cluster and release workers:\n",
    "client.shutdown()"
   ]
  },
  {
   "cell_type": "code",
   "execution_count": 3,
   "metadata": {},
   "outputs": [],
   "source": [
    "def get_ClusterClient():\n",
    "    import dask\n",
    "    from dask_jobqueue import PBSCluster\n",
    "    from dask.distributed import Client\n",
    "    cluster = PBSCluster(\n",
    "        cores=1,\n",
    "        memory='20GB',\n",
    "        processes=1,\n",
    "        queue='casper',\n",
    "        resource_spec='select=1:ncpus=1:mem=20GB',\n",
    "        account='NCGD0011',\n",
    "        walltime='06:00:00',\n",
    "        local_directory='/glade/scratch/yeager/',\n",
    "        log_directory='/glade/scratch/yeager/',\n",
    "        interface='ib0',\n",
    "        job_script_prologue=[\n",
    "        f'export ESMFMKFILE={os.environ[\"ESMFMKFILE\"]}'])\n",
    "\n",
    "    dask.config.set({\n",
    "        'distributed.dashboard.link':\n",
    "        'https://jupyterhub.hpc.ucar.edu/stable/user/{USER}/proxy/{port}/status',\n",
    "        \"distributed.scheduler.worker-saturation\": 1.0,\n",
    "        'array.slicing.split_large_chunks': True\n",
    "    })\n",
    "    client = Client(cluster)\n",
    "    return cluster, client"
   ]
  },
  {
   "cell_type": "code",
   "execution_count": 4,
   "metadata": {},
   "outputs": [
    {
     "name": "stderr",
     "output_type": "stream",
     "text": [
      "/glade/work/yeager/conda-envs/mypythonenv/lib/python3.10/site-packages/distributed/node.py:183: UserWarning: Port 8787 is already in use.\n",
      "Perhaps you already have a cluster running?\n",
      "Hosting the HTTP server on port 35764 instead\n",
      "  warnings.warn(\n"
     ]
    }
   ],
   "source": [
    "cluster, client = get_ClusterClient()\n",
    "cluster.scale(60) "
   ]
  },
  {
   "cell_type": "code",
   "execution_count": 5,
   "metadata": {},
   "outputs": [
    {
     "data": {
      "text/html": [
       "<div>\n",
       "    <div style=\"width: 24px; height: 24px; background-color: #e1e1e1; border: 3px solid #9D9D9D; border-radius: 5px; position: absolute;\"> </div>\n",
       "    <div style=\"margin-left: 48px;\">\n",
       "        <h3 style=\"margin-bottom: 0px;\">Client</h3>\n",
       "        <p style=\"color: #9D9D9D; margin-bottom: 0px;\">Client-b5b8e491-5fcd-11ee-91e0-3cecef1b157c</p>\n",
       "        <table style=\"width: 100%; text-align: left;\">\n",
       "\n",
       "        <tr>\n",
       "        \n",
       "            <td style=\"text-align: left;\"><strong>Connection method:</strong> Cluster object</td>\n",
       "            <td style=\"text-align: left;\"><strong>Cluster type:</strong> dask_jobqueue.PBSCluster</td>\n",
       "        \n",
       "        </tr>\n",
       "\n",
       "        \n",
       "            <tr>\n",
       "                <td style=\"text-align: left;\">\n",
       "                    <strong>Dashboard: </strong> <a href=\"https://jupyterhub.hpc.ucar.edu/stable/user/yeager/proxy/35764/status\" target=\"_blank\">https://jupyterhub.hpc.ucar.edu/stable/user/yeager/proxy/35764/status</a>\n",
       "                </td>\n",
       "                <td style=\"text-align: left;\"></td>\n",
       "            </tr>\n",
       "        \n",
       "\n",
       "        </table>\n",
       "\n",
       "        \n",
       "            <button style=\"margin-bottom: 12px;\" data-commandlinker-command=\"dask:populate-and-launch-layout\" data-commandlinker-args='{\"url\": \"https://jupyterhub.hpc.ucar.edu/stable/user/yeager/proxy/35764/status\" }'>\n",
       "                Launch dashboard in JupyterLab\n",
       "            </button>\n",
       "        \n",
       "\n",
       "        \n",
       "            <details>\n",
       "            <summary style=\"margin-bottom: 20px;\"><h3 style=\"display: inline;\">Cluster Info</h3></summary>\n",
       "            <div class=\"jp-RenderedHTMLCommon jp-RenderedHTML jp-mod-trusted jp-OutputArea-output\">\n",
       "    <div style=\"width: 24px; height: 24px; background-color: #e1e1e1; border: 3px solid #9D9D9D; border-radius: 5px; position: absolute;\">\n",
       "    </div>\n",
       "    <div style=\"margin-left: 48px;\">\n",
       "        <h3 style=\"margin-bottom: 0px; margin-top: 0px;\">PBSCluster</h3>\n",
       "        <p style=\"color: #9D9D9D; margin-bottom: 0px;\">9bf86bb6</p>\n",
       "        <table style=\"width: 100%; text-align: left;\">\n",
       "            <tr>\n",
       "                <td style=\"text-align: left;\">\n",
       "                    <strong>Dashboard:</strong> <a href=\"https://jupyterhub.hpc.ucar.edu/stable/user/yeager/proxy/35764/status\" target=\"_blank\">https://jupyterhub.hpc.ucar.edu/stable/user/yeager/proxy/35764/status</a>\n",
       "                </td>\n",
       "                <td style=\"text-align: left;\">\n",
       "                    <strong>Workers:</strong> 0\n",
       "                </td>\n",
       "            </tr>\n",
       "            <tr>\n",
       "                <td style=\"text-align: left;\">\n",
       "                    <strong>Total threads:</strong> 0\n",
       "                </td>\n",
       "                <td style=\"text-align: left;\">\n",
       "                    <strong>Total memory:</strong> 0 B\n",
       "                </td>\n",
       "            </tr>\n",
       "            \n",
       "        </table>\n",
       "\n",
       "        <details>\n",
       "            <summary style=\"margin-bottom: 20px;\">\n",
       "                <h3 style=\"display: inline;\">Scheduler Info</h3>\n",
       "            </summary>\n",
       "\n",
       "            <div style=\"\">\n",
       "    <div>\n",
       "        <div style=\"width: 24px; height: 24px; background-color: #FFF7E5; border: 3px solid #FF6132; border-radius: 5px; position: absolute;\"> </div>\n",
       "        <div style=\"margin-left: 48px;\">\n",
       "            <h3 style=\"margin-bottom: 0px;\">Scheduler</h3>\n",
       "            <p style=\"color: #9D9D9D; margin-bottom: 0px;\">Scheduler-0facdf5e-90db-451a-badb-1cdebe351334</p>\n",
       "            <table style=\"width: 100%; text-align: left;\">\n",
       "                <tr>\n",
       "                    <td style=\"text-align: left;\">\n",
       "                        <strong>Comm:</strong> tcp://10.12.206.59:44088\n",
       "                    </td>\n",
       "                    <td style=\"text-align: left;\">\n",
       "                        <strong>Workers:</strong> 0\n",
       "                    </td>\n",
       "                </tr>\n",
       "                <tr>\n",
       "                    <td style=\"text-align: left;\">\n",
       "                        <strong>Dashboard:</strong> <a href=\"https://jupyterhub.hpc.ucar.edu/stable/user/yeager/proxy/35764/status\" target=\"_blank\">https://jupyterhub.hpc.ucar.edu/stable/user/yeager/proxy/35764/status</a>\n",
       "                    </td>\n",
       "                    <td style=\"text-align: left;\">\n",
       "                        <strong>Total threads:</strong> 0\n",
       "                    </td>\n",
       "                </tr>\n",
       "                <tr>\n",
       "                    <td style=\"text-align: left;\">\n",
       "                        <strong>Started:</strong> Just now\n",
       "                    </td>\n",
       "                    <td style=\"text-align: left;\">\n",
       "                        <strong>Total memory:</strong> 0 B\n",
       "                    </td>\n",
       "                </tr>\n",
       "            </table>\n",
       "        </div>\n",
       "    </div>\n",
       "\n",
       "    <details style=\"margin-left: 48px;\">\n",
       "        <summary style=\"margin-bottom: 20px;\">\n",
       "            <h3 style=\"display: inline;\">Workers</h3>\n",
       "        </summary>\n",
       "\n",
       "        \n",
       "\n",
       "    </details>\n",
       "</div>\n",
       "\n",
       "        </details>\n",
       "    </div>\n",
       "</div>\n",
       "            </details>\n",
       "        \n",
       "\n",
       "    </div>\n",
       "</div>"
      ],
      "text/plain": [
       "<Client: 'tcp://10.12.206.59:44088' processes=0 threads=0, memory=0 B>"
      ]
     },
     "execution_count": 5,
     "metadata": {},
     "output_type": "execute_result"
    }
   ],
   "source": [
    "client"
   ]
  },
  {
   "cell_type": "markdown",
   "metadata": {},
   "source": [
    "### 1. Read in Needed Grid Info"
   ]
  },
  {
   "cell_type": "code",
   "execution_count": 6,
   "metadata": {},
   "outputs": [],
   "source": [
    "def time_set_midmonth(ds, time_name, deep=False):\n",
    "    \"\"\"\n",
    "    Return copy of ds with values of ds[time_name] replaced with mid-month\n",
    "    values (day=15) rather than end-month values.\n",
    "    \"\"\"\n",
    "    #ds_out = ds.copy(deep)\n",
    "    year = ds[time_name].dt.year\n",
    "    month = ds[time_name].dt.month\n",
    "    year = xr.where(month==1,year-1,year)\n",
    "    month = xr.where(month==1,12,month-1)\n",
    "    nmonths = len(month)\n",
    "    newtime = [cftime.DatetimeNoLeap(year[i], month[i], 15) for i in range(nmonths)]\n",
    "    ds[time_name] = newtime\n",
    "    return ds\n",
    "\n",
    "def preprocessor(ds0):\n",
    "    keepvars = ['WVEL','VVEL']\n",
    "    d0 = ds0[keepvars]\n",
    "    d0 = time_set_midmonth(d0,'time')\n",
    "    #d0 = d0.groupby('time.year').mean('time').rename({'year':'time'})\n",
    "    return d0\n",
    "\n",
    "# shift VVEL to 3121 position\n",
    "def shiftVVEL(v):\n",
    "    v_w = v.roll(nlon=1,roll_coords=False)\n",
    "    v = 0.5*(v+v_w)\n",
    "    return v.drop(['ULONG','TLAT'])"
   ]
  },
  {
   "cell_type": "code",
   "execution_count": 8,
   "metadata": {},
   "outputs": [],
   "source": [
    "fgrd = '/glade/work/fredc/cesm/grid/POP/grid.3600x2400x62.nc'\n",
    "ds_grid = xr.open_dataset(fgrd)\n",
    "\n",
    "fmoc = '/glade/u/home/yeager/analysis/python/POP_MOC/moc_template.nc'\n",
    "ds_moctemp = xr.open_dataset(fmoc)"
   ]
  },
  {
   "cell_type": "code",
   "execution_count": 9,
   "metadata": {},
   "outputs": [
    {
     "name": "stdout",
     "output_type": "stream",
     "text": [
      "CPU times: user 101 ms, sys: 132 ms, total: 233 ms\n",
      "Wall time: 354 ms\n"
     ]
    }
   ],
   "source": [
    "%%time\n",
    "dz = ds_grid['dz'].persist() / 100.\n",
    "kmt = ds_grid['KMT'].fillna(0).persist() \n",
    "#dzt,dzu = popmoc.tx0p1v3_dztdzu(dz,kmt)"
   ]
  },
  {
   "cell_type": "code",
   "execution_count": 10,
   "metadata": {},
   "outputs": [],
   "source": [
    "tlon = ds_grid.TLONG.drop(['ULONG','ULAT'])\n",
    "tlat = ds_grid.TLAT.drop(['ULONG','ULAT'])\n",
    "ulon = ds_grid.ULONG.drop(['TLONG','TLAT'])\n",
    "ulat = ds_grid.ULAT.drop(['TLONG','TLAT'])"
   ]
  },
  {
   "cell_type": "markdown",
   "metadata": {},
   "source": [
    "### MOC Region Mask"
   ]
  },
  {
   "cell_type": "code",
   "execution_count": 11,
   "metadata": {},
   "outputs": [],
   "source": [
    "## Define the MOC region mask:\n",
    "rmask = ds_grid.REGION_MASK.drop(['ULONG','ULAT'])\n",
    "rmaskglob = xr.where((rmask>0),1,0)\n",
    "rmaskatl = xr.where((rmask>=6) & (rmask<=11),1,0)\n",
    "rmaskmoc = xr.concat([rmaskglob,rmaskatl],dim=ds_moctemp.transport_regions)"
   ]
  },
  {
   "cell_type": "code",
   "execution_count": 12,
   "metadata": {},
   "outputs": [],
   "source": [
    "# determine j=index of Atlantic region southern boundary\n",
    "tmp = rmaskmoc.isel(transport_reg=1).sum('nlon')\n",
    "atl_j = 0\n",
    "j = 0\n",
    "while (atl_j==0):\n",
    "    if (tmp.isel(nlat=j).data>0):\n",
    "        atl_j = j\n",
    "    j += 1\n",
    "atl_j = atl_j - 1"
   ]
  },
  {
   "cell_type": "markdown",
   "metadata": {},
   "source": [
    "# Loop over years and compute MOC "
   ]
  },
  {
   "cell_type": "code",
   "execution_count": 13,
   "metadata": {},
   "outputs": [],
   "source": [
    "ystart=89\n",
    "yend=103\n",
    "fdir = '/glade/derecho/scratch/nanr/archive/b.e13.SPNA-derecho.ne120_t12.SY-089.001/ocn/hist/'\n",
    "fin_tmp = 'b.e13.SPNA-derecho.ne120_t12.SY-089.001.pop.h.YYYY-??.nc'\n",
    "outdir = '/glade/scratch/yeager/BSPNA'"
   ]
  },
  {
   "cell_type": "code",
   "execution_count": 15,
   "metadata": {},
   "outputs": [],
   "source": [
    "ystart=100\n",
    "yend=115\n",
    "fdir = '/glade/derecho/scratch/nanr/archive/b.e13.SPNA-derecho.ne120_t12.SY-100.001/ocn/hist/'\n",
    "fin_tmp = 'b.e13.SPNA-derecho.ne120_t12.SY-100.001.pop.h.YYYY-??.nc'\n",
    "outdir = '/glade/scratch/yeager/BSPNA'"
   ]
  },
  {
   "cell_type": "code",
   "execution_count": 17,
   "metadata": {},
   "outputs": [],
   "source": [
    "ystart=105\n",
    "yend=120\n",
    "fdir = '/glade/derecho/scratch/nanr/archive/b.e13.SPNA-derecho.ne120_t12.SY-105.001/ocn/hist/'\n",
    "fin_tmp = 'b.e13.SPNA-derecho.ne120_t12.SY-105.001.pop.h.YYYY-??.nc'\n",
    "outdir = '/glade/scratch/yeager/BSPNA'"
   ]
  },
  {
   "cell_type": "code",
   "execution_count": 19,
   "metadata": {},
   "outputs": [],
   "source": [
    "ystart=115\n",
    "yend=130\n",
    "fdir = '/glade/derecho/scratch/nanr/archive/b.e13.SPNA-derecho.ne120_t12.SY-115.001/ocn/hist/'\n",
    "fin_tmp = 'b.e13.SPNA-derecho.ne120_t12.SY-115.001.pop.h.YYYY-??.nc'\n",
    "outdir = '/glade/scratch/yeager/BSPNA'"
   ]
  },
  {
   "cell_type": "code",
   "execution_count": 20,
   "metadata": {},
   "outputs": [
    {
     "name": "stdout",
     "output_type": "stream",
     "text": [
      "working on /glade/derecho/scratch/nanr/archive/b.e13.SPNA-derecho.ne120_t12.SY-115.001/ocn/hist/b.e13.SPNA-derecho.ne120_t12.SY-115.001.pop.h.0115-??.nc\n",
      "wrote /glade/scratch/yeager/BSPNA/b.e13.SPNA-derecho.ne120_t12.SY-115.001.pop.h.MOC.0115.nc at Sat Sep 30 15:25:13 2023\n",
      "working on /glade/derecho/scratch/nanr/archive/b.e13.SPNA-derecho.ne120_t12.SY-115.001/ocn/hist/b.e13.SPNA-derecho.ne120_t12.SY-115.001.pop.h.0116-??.nc\n",
      "wrote /glade/scratch/yeager/BSPNA/b.e13.SPNA-derecho.ne120_t12.SY-115.001.pop.h.MOC.0116.nc at Sat Sep 30 15:26:38 2023\n",
      "working on /glade/derecho/scratch/nanr/archive/b.e13.SPNA-derecho.ne120_t12.SY-115.001/ocn/hist/b.e13.SPNA-derecho.ne120_t12.SY-115.001.pop.h.0117-??.nc\n",
      "wrote /glade/scratch/yeager/BSPNA/b.e13.SPNA-derecho.ne120_t12.SY-115.001.pop.h.MOC.0117.nc at Sat Sep 30 15:27:57 2023\n",
      "working on /glade/derecho/scratch/nanr/archive/b.e13.SPNA-derecho.ne120_t12.SY-115.001/ocn/hist/b.e13.SPNA-derecho.ne120_t12.SY-115.001.pop.h.0118-??.nc\n",
      "wrote /glade/scratch/yeager/BSPNA/b.e13.SPNA-derecho.ne120_t12.SY-115.001.pop.h.MOC.0118.nc at Sat Sep 30 15:29:20 2023\n",
      "working on /glade/derecho/scratch/nanr/archive/b.e13.SPNA-derecho.ne120_t12.SY-115.001/ocn/hist/b.e13.SPNA-derecho.ne120_t12.SY-115.001.pop.h.0119-??.nc\n",
      "wrote /glade/scratch/yeager/BSPNA/b.e13.SPNA-derecho.ne120_t12.SY-115.001.pop.h.MOC.0119.nc at Sat Sep 30 15:30:45 2023\n",
      "working on /glade/derecho/scratch/nanr/archive/b.e13.SPNA-derecho.ne120_t12.SY-115.001/ocn/hist/b.e13.SPNA-derecho.ne120_t12.SY-115.001.pop.h.0120-??.nc\n",
      "wrote /glade/scratch/yeager/BSPNA/b.e13.SPNA-derecho.ne120_t12.SY-115.001.pop.h.MOC.0120.nc at Sat Sep 30 15:32:02 2023\n",
      "working on /glade/derecho/scratch/nanr/archive/b.e13.SPNA-derecho.ne120_t12.SY-115.001/ocn/hist/b.e13.SPNA-derecho.ne120_t12.SY-115.001.pop.h.0121-??.nc\n",
      "wrote /glade/scratch/yeager/BSPNA/b.e13.SPNA-derecho.ne120_t12.SY-115.001.pop.h.MOC.0121.nc at Sat Sep 30 15:33:20 2023\n",
      "working on /glade/derecho/scratch/nanr/archive/b.e13.SPNA-derecho.ne120_t12.SY-115.001/ocn/hist/b.e13.SPNA-derecho.ne120_t12.SY-115.001.pop.h.0122-??.nc\n",
      "wrote /glade/scratch/yeager/BSPNA/b.e13.SPNA-derecho.ne120_t12.SY-115.001.pop.h.MOC.0122.nc at Sat Sep 30 15:34:46 2023\n",
      "working on /glade/derecho/scratch/nanr/archive/b.e13.SPNA-derecho.ne120_t12.SY-115.001/ocn/hist/b.e13.SPNA-derecho.ne120_t12.SY-115.001.pop.h.0123-??.nc\n",
      "wrote /glade/scratch/yeager/BSPNA/b.e13.SPNA-derecho.ne120_t12.SY-115.001.pop.h.MOC.0123.nc at Sat Sep 30 15:36:13 2023\n",
      "working on /glade/derecho/scratch/nanr/archive/b.e13.SPNA-derecho.ne120_t12.SY-115.001/ocn/hist/b.e13.SPNA-derecho.ne120_t12.SY-115.001.pop.h.0124-??.nc\n",
      "wrote /glade/scratch/yeager/BSPNA/b.e13.SPNA-derecho.ne120_t12.SY-115.001.pop.h.MOC.0124.nc at Sat Sep 30 15:37:35 2023\n",
      "working on /glade/derecho/scratch/nanr/archive/b.e13.SPNA-derecho.ne120_t12.SY-115.001/ocn/hist/b.e13.SPNA-derecho.ne120_t12.SY-115.001.pop.h.0125-??.nc\n",
      "wrote /glade/scratch/yeager/BSPNA/b.e13.SPNA-derecho.ne120_t12.SY-115.001.pop.h.MOC.0125.nc at Sat Sep 30 15:38:56 2023\n",
      "working on /glade/derecho/scratch/nanr/archive/b.e13.SPNA-derecho.ne120_t12.SY-115.001/ocn/hist/b.e13.SPNA-derecho.ne120_t12.SY-115.001.pop.h.0126-??.nc\n",
      "wrote /glade/scratch/yeager/BSPNA/b.e13.SPNA-derecho.ne120_t12.SY-115.001.pop.h.MOC.0126.nc at Sat Sep 30 15:40:19 2023\n",
      "working on /glade/derecho/scratch/nanr/archive/b.e13.SPNA-derecho.ne120_t12.SY-115.001/ocn/hist/b.e13.SPNA-derecho.ne120_t12.SY-115.001.pop.h.0127-??.nc\n",
      "wrote /glade/scratch/yeager/BSPNA/b.e13.SPNA-derecho.ne120_t12.SY-115.001.pop.h.MOC.0127.nc at Sat Sep 30 15:41:43 2023\n",
      "working on /glade/derecho/scratch/nanr/archive/b.e13.SPNA-derecho.ne120_t12.SY-115.001/ocn/hist/b.e13.SPNA-derecho.ne120_t12.SY-115.001.pop.h.0128-??.nc\n",
      "wrote /glade/scratch/yeager/BSPNA/b.e13.SPNA-derecho.ne120_t12.SY-115.001.pop.h.MOC.0128.nc at Sat Sep 30 15:43:07 2023\n",
      "working on /glade/derecho/scratch/nanr/archive/b.e13.SPNA-derecho.ne120_t12.SY-115.001/ocn/hist/b.e13.SPNA-derecho.ne120_t12.SY-115.001.pop.h.0129-??.nc\n",
      "wrote /glade/scratch/yeager/BSPNA/b.e13.SPNA-derecho.ne120_t12.SY-115.001.pop.h.MOC.0129.nc at Sat Sep 30 15:44:34 2023\n",
      "working on /glade/derecho/scratch/nanr/archive/b.e13.SPNA-derecho.ne120_t12.SY-115.001/ocn/hist/b.e13.SPNA-derecho.ne120_t12.SY-115.001.pop.h.0130-??.nc\n",
      "wrote /glade/scratch/yeager/BSPNA/b.e13.SPNA-derecho.ne120_t12.SY-115.001.pop.h.MOC.0130.nc at Sat Sep 30 15:46:01 2023\n",
      "CPU times: user 11min 21s, sys: 2min 47s, total: 14min 8s\n",
      "Wall time: 22min 9s\n"
     ]
    }
   ],
   "source": [
    "%%time\n",
    "for n in np.arange(ystart,yend+1,1):\n",
    "    yrstr = str(n).zfill(4)\n",
    "    fin = fdir+fin_tmp.replace('YYYY',yrstr)\n",
    "    print(\"working on {}\".format(fin))\n",
    "    ds = xr.open_mfdataset(fin,combine='by_coords',\n",
    "                       preprocess=preprocessor,chunks={'time':1,'nlon':100},\n",
    "                       coords=\"minimal\",compat=\"override\",data_vars=\"minimal\",\n",
    "                       parallel=True,)\n",
    "    \n",
    "    w_e = ds['WVEL'].drop(['ULONG','ULAT'])\n",
    "    w_e = w_e.where(w_e<1.e30,0)\n",
    "    v_e = shiftVVEL(ds['VVEL'])\n",
    "    v_e = v_e.where(v_e<1.e30,0)\n",
    "\n",
    "    # Grid-oriented Volume FLuxes:\n",
    "    tarea = ds_grid['TAREA'].drop(['ULONG','ULAT']).astype(w_e.dtype)\n",
    "    w_e = (w_e*tarea/1.e6).assign_attrs({'units':'m^3/s'})\n",
    "    dxdz = (ds_grid['HTN'].drop(['ULONG','TLAT'])*ds_grid['dz']).astype(v_e.dtype)\n",
    "    v_e = (v_e*dxdz/1.e6).assign_attrs({'units':'m^3/s'})\n",
    "    \n",
    "    # add extra level corresponding to zeroes at seafloor (requires rechunking)\n",
    "    w_e_bot = xr.zeros_like(w_e.isel(z_w_top=-1))\n",
    "    w_e_bot['z_w_top'] = ds_grid.z_w_bot[-1].data\n",
    "    wflux = xr.concat([w_e,w_e_bot],dim='z_w_top').rename({'z_w_top':'moc_z'}).chunk({'moc_z':63})\n",
    "    \n",
    "    v_e_bot = xr.zeros_like(v_e.isel(z_t=-1))\n",
    "    v_e_bot['z_t'] = ds_grid.z_w_bot[-1].data\n",
    "    vflux = xr.concat([v_e,v_e_bot],dim='z_t').chunk({'z_t':63})\n",
    "    \n",
    "    wflux = wflux.assign_coords({'TLONG':tlon, 'TLAT':tlat})\n",
    "    vflux = vflux.assign_coords({'TLONG':tlon, 'ULAT':tlat})\n",
    "\n",
    "    # Compute MOC\n",
    "    MOC = popmoc.compute_MOC(wflux,rmaskmoc,ds_moctemp.lat_aux_grid)\n",
    "    MOC = MOC.transpose('time','transport_reg','moc_z','lat_aux_grid')\n",
    "    MOC = dask.optimize(MOC)[0]\n",
    "\n",
    "    # add vflux at southern boundary of Atlantic domain\n",
    "    tmp = vflux*(rmaskmoc.shift(nlat=-1))\n",
    "    tmp = tmp.isel(nlat=atl_j,transport_reg=1).sum('nlon').rename({'z_t':'moc_z'})\n",
    "    mocatl_s = -tmp.sortby('moc_z',ascending=False).cumsum('moc_z').sortby('moc_z',ascending=True)/1.e6\n",
    "    mocatl_s['moc_z'] = MOC['moc_z']\n",
    "    MOC[{'transport_reg':1}] = MOC[{'transport_reg':1}] + mocatl_s\n",
    "\n",
    "    # Save to netcdf\n",
    "    MOCann = MOC.groupby('time.year').mean('time').rename({'year':'time'})\n",
    "    dsout = MOCann.to_dataset()\n",
    "\n",
    "    fout = os.path.split(fin)[-1].split('.')[:-2]\n",
    "    fout.append('MOC')\n",
    "    fout.append(yrstr)\n",
    "    fout.append('nc')\n",
    "    fout = '.'.join(fout)\n",
    "    fout = os.path.join(outdir,fout)\n",
    "    dsout.to_netcdf(fout,unlimited_dims='time')\n",
    "    print(\"wrote {} at {}\".format(fout, time.ctime()))"
   ]
  },
  {
   "cell_type": "code",
   "execution_count": null,
   "metadata": {},
   "outputs": [],
   "source": []
  }
 ],
 "metadata": {
  "kernelspec": {
   "display_name": "Python [conda env:mypythonenv]",
   "language": "python",
   "name": "conda-env-mypythonenv-py"
  },
  "language_info": {
   "codemirror_mode": {
    "name": "ipython",
    "version": 3
   },
   "file_extension": ".py",
   "mimetype": "text/x-python",
   "name": "python",
   "nbconvert_exporter": "python",
   "pygments_lexer": "ipython3",
   "version": "3.10.8"
  }
 },
 "nbformat": 4,
 "nbformat_minor": 4
}
