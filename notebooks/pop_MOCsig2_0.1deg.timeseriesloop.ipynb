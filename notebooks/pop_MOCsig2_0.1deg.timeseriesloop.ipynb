{
 "cells": [
  {
   "cell_type": "markdown",
   "metadata": {
    "tags": []
   },
   "source": [
    "# POP MOC(sig2) for 0.1-degree\n",
    " - Computes MOC(sig2) offline from POP history files using simple xhistogram binning"
   ]
  },
  {
   "cell_type": "code",
   "execution_count": 1,
   "metadata": {},
   "outputs": [],
   "source": [
    "%load_ext autoreload\n",
    "%autoreload 2\n",
    "import xarray as xr \n",
    "import numpy as np  \n",
    "import cftime\n",
    "import dask\n",
    "from xhistogram.xarray import histogram\n",
    "import pop_tools\n",
    "import os\n",
    "import time\n",
    "import matplotlib.pyplot as plt\n",
    "%matplotlib inline\n",
    "\n",
    "from MOCutils import popmoc"
   ]
  },
  {
   "cell_type": "code",
   "execution_count": 2,
   "metadata": {},
   "outputs": [
    {
     "data": {
      "text/plain": [
       "'2022.11.0'"
      ]
     },
     "execution_count": 2,
     "metadata": {},
     "output_type": "execute_result"
    }
   ],
   "source": [
    "import dask\n",
    "from dask.distributed import wait\n",
    "dask.__version__"
   ]
  },
  {
   "cell_type": "markdown",
   "metadata": {},
   "source": [
    "### Start Dask Cluster"
   ]
  },
  {
   "cell_type": "code",
   "execution_count": 16,
   "metadata": {
    "tags": []
   },
   "outputs": [],
   "source": [
    "# Close out Dask Cluster and release workers:\n",
    "client.shutdown()"
   ]
  },
  {
   "cell_type": "code",
   "execution_count": 3,
   "metadata": {},
   "outputs": [],
   "source": [
    "def get_ClusterClient():\n",
    "    import dask\n",
    "    from dask_jobqueue import PBSCluster\n",
    "    from dask.distributed import Client\n",
    "    cluster = PBSCluster(\n",
    "        cores=1,\n",
    "        memory='20GB',\n",
    "        processes=1,\n",
    "        queue='casper',\n",
    "        resource_spec='select=1:ncpus=1:mem=20GB',\n",
    "        account='NCGD0011',\n",
    "        walltime='06:00:00',\n",
    "        local_directory='/glade/scratch/yeager/',\n",
    "        log_directory='/glade/scratch/yeager/',\n",
    "        interface='ib0',\n",
    "        job_script_prologue=[\n",
    "        f'export ESMFMKFILE={os.environ[\"ESMFMKFILE\"]}'])\n",
    "\n",
    "    dask.config.set({\n",
    "        'distributed.dashboard.link':\n",
    "        'https://jupyterhub.hpc.ucar.edu/stable/user/{USER}/proxy/{port}/status',\n",
    "        \"distributed.scheduler.worker-saturation\": 1.0,\n",
    "        'array.slicing.split_large_chunks': True\n",
    "    })\n",
    "    client = Client(cluster)\n",
    "    return cluster, client"
   ]
  },
  {
   "cell_type": "code",
   "execution_count": 4,
   "metadata": {},
   "outputs": [
    {
     "name": "stderr",
     "output_type": "stream",
     "text": [
      "/glade/work/yeager/conda-envs/mypythonenv/lib/python3.10/site-packages/distributed/node.py:183: UserWarning: Port 8787 is already in use.\n",
      "Perhaps you already have a cluster running?\n",
      "Hosting the HTTP server on port 38040 instead\n",
      "  warnings.warn(\n"
     ]
    }
   ],
   "source": [
    "cluster, client = get_ClusterClient()\n",
    "cluster.scale(60) "
   ]
  },
  {
   "cell_type": "code",
   "execution_count": 5,
   "metadata": {},
   "outputs": [
    {
     "data": {
      "text/html": [
       "<div>\n",
       "    <div style=\"width: 24px; height: 24px; background-color: #e1e1e1; border: 3px solid #9D9D9D; border-radius: 5px; position: absolute;\"> </div>\n",
       "    <div style=\"margin-left: 48px;\">\n",
       "        <h3 style=\"margin-bottom: 0px;\">Client</h3>\n",
       "        <p style=\"color: #9D9D9D; margin-bottom: 0px;\">Client-9041e269-605c-11ee-8983-3cecef1acc5c</p>\n",
       "        <table style=\"width: 100%; text-align: left;\">\n",
       "\n",
       "        <tr>\n",
       "        \n",
       "            <td style=\"text-align: left;\"><strong>Connection method:</strong> Cluster object</td>\n",
       "            <td style=\"text-align: left;\"><strong>Cluster type:</strong> dask_jobqueue.PBSCluster</td>\n",
       "        \n",
       "        </tr>\n",
       "\n",
       "        \n",
       "            <tr>\n",
       "                <td style=\"text-align: left;\">\n",
       "                    <strong>Dashboard: </strong> <a href=\"https://jupyterhub.hpc.ucar.edu/stable/user/yeager/proxy/38040/status\" target=\"_blank\">https://jupyterhub.hpc.ucar.edu/stable/user/yeager/proxy/38040/status</a>\n",
       "                </td>\n",
       "                <td style=\"text-align: left;\"></td>\n",
       "            </tr>\n",
       "        \n",
       "\n",
       "        </table>\n",
       "\n",
       "        \n",
       "            <button style=\"margin-bottom: 12px;\" data-commandlinker-command=\"dask:populate-and-launch-layout\" data-commandlinker-args='{\"url\": \"https://jupyterhub.hpc.ucar.edu/stable/user/yeager/proxy/38040/status\" }'>\n",
       "                Launch dashboard in JupyterLab\n",
       "            </button>\n",
       "        \n",
       "\n",
       "        \n",
       "            <details>\n",
       "            <summary style=\"margin-bottom: 20px;\"><h3 style=\"display: inline;\">Cluster Info</h3></summary>\n",
       "            <div class=\"jp-RenderedHTMLCommon jp-RenderedHTML jp-mod-trusted jp-OutputArea-output\">\n",
       "    <div style=\"width: 24px; height: 24px; background-color: #e1e1e1; border: 3px solid #9D9D9D; border-radius: 5px; position: absolute;\">\n",
       "    </div>\n",
       "    <div style=\"margin-left: 48px;\">\n",
       "        <h3 style=\"margin-bottom: 0px; margin-top: 0px;\">PBSCluster</h3>\n",
       "        <p style=\"color: #9D9D9D; margin-bottom: 0px;\">53644aa0</p>\n",
       "        <table style=\"width: 100%; text-align: left;\">\n",
       "            <tr>\n",
       "                <td style=\"text-align: left;\">\n",
       "                    <strong>Dashboard:</strong> <a href=\"https://jupyterhub.hpc.ucar.edu/stable/user/yeager/proxy/38040/status\" target=\"_blank\">https://jupyterhub.hpc.ucar.edu/stable/user/yeager/proxy/38040/status</a>\n",
       "                </td>\n",
       "                <td style=\"text-align: left;\">\n",
       "                    <strong>Workers:</strong> 0\n",
       "                </td>\n",
       "            </tr>\n",
       "            <tr>\n",
       "                <td style=\"text-align: left;\">\n",
       "                    <strong>Total threads:</strong> 0\n",
       "                </td>\n",
       "                <td style=\"text-align: left;\">\n",
       "                    <strong>Total memory:</strong> 0 B\n",
       "                </td>\n",
       "            </tr>\n",
       "            \n",
       "        </table>\n",
       "\n",
       "        <details>\n",
       "            <summary style=\"margin-bottom: 20px;\">\n",
       "                <h3 style=\"display: inline;\">Scheduler Info</h3>\n",
       "            </summary>\n",
       "\n",
       "            <div style=\"\">\n",
       "    <div>\n",
       "        <div style=\"width: 24px; height: 24px; background-color: #FFF7E5; border: 3px solid #FF6132; border-radius: 5px; position: absolute;\"> </div>\n",
       "        <div style=\"margin-left: 48px;\">\n",
       "            <h3 style=\"margin-bottom: 0px;\">Scheduler</h3>\n",
       "            <p style=\"color: #9D9D9D; margin-bottom: 0px;\">Scheduler-51025b78-2773-4921-b004-2760b60fd12f</p>\n",
       "            <table style=\"width: 100%; text-align: left;\">\n",
       "                <tr>\n",
       "                    <td style=\"text-align: left;\">\n",
       "                        <strong>Comm:</strong> tcp://10.12.206.34:40849\n",
       "                    </td>\n",
       "                    <td style=\"text-align: left;\">\n",
       "                        <strong>Workers:</strong> 0\n",
       "                    </td>\n",
       "                </tr>\n",
       "                <tr>\n",
       "                    <td style=\"text-align: left;\">\n",
       "                        <strong>Dashboard:</strong> <a href=\"https://jupyterhub.hpc.ucar.edu/stable/user/yeager/proxy/38040/status\" target=\"_blank\">https://jupyterhub.hpc.ucar.edu/stable/user/yeager/proxy/38040/status</a>\n",
       "                    </td>\n",
       "                    <td style=\"text-align: left;\">\n",
       "                        <strong>Total threads:</strong> 0\n",
       "                    </td>\n",
       "                </tr>\n",
       "                <tr>\n",
       "                    <td style=\"text-align: left;\">\n",
       "                        <strong>Started:</strong> Just now\n",
       "                    </td>\n",
       "                    <td style=\"text-align: left;\">\n",
       "                        <strong>Total memory:</strong> 0 B\n",
       "                    </td>\n",
       "                </tr>\n",
       "            </table>\n",
       "        </div>\n",
       "    </div>\n",
       "\n",
       "    <details style=\"margin-left: 48px;\">\n",
       "        <summary style=\"margin-bottom: 20px;\">\n",
       "            <h3 style=\"display: inline;\">Workers</h3>\n",
       "        </summary>\n",
       "\n",
       "        \n",
       "\n",
       "    </details>\n",
       "</div>\n",
       "\n",
       "        </details>\n",
       "    </div>\n",
       "</div>\n",
       "            </details>\n",
       "        \n",
       "\n",
       "    </div>\n",
       "</div>"
      ],
      "text/plain": [
       "<Client: 'tcp://10.12.206.34:40849' processes=0 threads=0, memory=0 B>"
      ]
     },
     "execution_count": 5,
     "metadata": {},
     "output_type": "execute_result"
    }
   ],
   "source": [
    "client"
   ]
  },
  {
   "cell_type": "markdown",
   "metadata": {},
   "source": [
    "### 1. Read in Needed Grid Info"
   ]
  },
  {
   "cell_type": "code",
   "execution_count": 6,
   "metadata": {},
   "outputs": [],
   "source": [
    "def time_set_midmonth(ds, time_name, deep=False):\n",
    "    \"\"\"\n",
    "    Return copy of ds with values of ds[time_name] replaced with mid-month\n",
    "    values (day=15) rather than end-month values.\n",
    "    \"\"\"\n",
    "    #ds_out = ds.copy(deep)\n",
    "    year = ds[time_name].dt.year\n",
    "    month = ds[time_name].dt.month\n",
    "    year = xr.where(month==1,year-1,year)\n",
    "    month = xr.where(month==1,12,month-1)\n",
    "    nmonths = len(month)\n",
    "    newtime = [cftime.DatetimeNoLeap(year[i], month[i], 15) for i in range(nmonths)]\n",
    "    ds[time_name] = newtime\n",
    "    return ds\n",
    "\n",
    "def preprocessor(ds0):\n",
    "    keepvars = ['UVEL','VVEL','TEMP','SALT']\n",
    "    d0 = ds0[keepvars]\n",
    "    d0 = time_set_midmonth(d0,'time')\n",
    "    #d0 = d0.groupby('time.year').mean('time').rename({'year':'time'})\n",
    "    return d0"
   ]
  },
  {
   "cell_type": "code",
   "execution_count": 7,
   "metadata": {},
   "outputs": [],
   "source": [
    "fgrd = '/glade/work/fredc/cesm/grid/POP/grid.3600x2400x62.nc'\n",
    "ds_grid = xr.open_dataset(fgrd)\n",
    "\n",
    "fmoc = '/glade/u/home/yeager/analysis/python/POP_MOC/moc_template.nc'\n",
    "ds_moctemp = xr.open_dataset(fmoc)"
   ]
  },
  {
   "cell_type": "code",
   "execution_count": 8,
   "metadata": {},
   "outputs": [
    {
     "name": "stdout",
     "output_type": "stream",
     "text": [
      "CPU times: user 15.2 s, sys: 14.9 s, total: 30.1 s\n",
      "Wall time: 32.4 s\n"
     ]
    }
   ],
   "source": [
    "%%time\n",
    "dz = ds_grid['dz'].persist() / 100.\n",
    "kmt = ds_grid['KMT'].fillna(0).persist() \n",
    "dzt,dzu = popmoc.tx0p1v3_dztdzu(dz,kmt)"
   ]
  },
  {
   "cell_type": "code",
   "execution_count": 9,
   "metadata": {},
   "outputs": [],
   "source": [
    "tlon = ds_grid.TLONG.drop(['ULONG','ULAT'])\n",
    "tlat = ds_grid.TLAT.drop(['ULONG','ULAT'])\n",
    "ulon = ds_grid.ULONG.drop(['TLONG','TLAT'])\n",
    "ulat = ds_grid.ULAT.drop(['TLONG','TLAT'])"
   ]
  },
  {
   "cell_type": "code",
   "execution_count": 10,
   "metadata": {},
   "outputs": [],
   "source": [
    "# Compute sigma-2 field from POP model output\n",
    "refz = 2000\n",
    "refdep = xr.DataArray(refz)\n",
    "\n",
    "# Grid Metrics\n",
    "dxu = ds_grid['DXU']\n",
    "dyu = ds_grid['DYU']\n",
    "dxt = ds_grid['DXT']\n",
    "dyt = ds_grid['DYT']"
   ]
  },
  {
   "cell_type": "markdown",
   "metadata": {},
   "source": [
    "### MOC Region Mask"
   ]
  },
  {
   "cell_type": "code",
   "execution_count": 11,
   "metadata": {},
   "outputs": [],
   "source": [
    "## Define the MOC region mask:\n",
    "rmask = ds_grid.REGION_MASK.drop(['ULONG','ULAT'])\n",
    "rmaskglob = xr.where((rmask>0),1,0)\n",
    "rmaskatl = xr.where((rmask>=6) & (rmask<=11),1,0)\n",
    "rmaskmoc = xr.concat([rmaskglob,rmaskatl],dim=ds_moctemp.transport_regions)"
   ]
  },
  {
   "cell_type": "code",
   "execution_count": 12,
   "metadata": {},
   "outputs": [],
   "source": [
    "# determine j=index of Atlantic region southern boundary\n",
    "tmp = rmaskmoc.isel(transport_reg=1).sum('nlon')\n",
    "atl_j = 0\n",
    "j = 0\n",
    "while (atl_j==0):\n",
    "    if (tmp.isel(nlat=j).data>0):\n",
    "        atl_j = j\n",
    "    j += 1\n",
    "atl_j = atl_j - 1"
   ]
  },
  {
   "cell_type": "markdown",
   "metadata": {},
   "source": [
    "### Sigma Target Grid"
   ]
  },
  {
   "cell_type": "code",
   "execution_count": 13,
   "metadata": {},
   "outputs": [],
   "source": [
    "# Define target sigma-2 vertical grid. Use a predefined target grid, or create your own!\n",
    "sigma_mid,sigma_edge = popmoc.sigma2_grid_86L()"
   ]
  },
  {
   "cell_type": "markdown",
   "metadata": {},
   "source": [
    "# Loop over years and compute MOC "
   ]
  },
  {
   "cell_type": "code",
   "execution_count": 14,
   "metadata": {},
   "outputs": [],
   "source": [
    "ystart=89\n",
    "yend=103\n",
    "fdir = '/glade/campaign/collections/cmip/CMIP6/iHESP/HighResMIP/B1950cntl/HR/B.E.13.B1950C5.ne120_t12.cesm-ihesp-1950cntl.013/ocn/proc/tseries/month_1/'\n",
    "fin_tmp = 'B.E.13.B1950C5.ne120_t12.cesm-ihesp-1950cntl.013.pop.h.VVV.YYYY01-YYYY12.nc'\n",
    "fin_tmp_out = 'B.E.13.B1950C5.ne120_t12.cesm-ihesp-1950cntl.013.pop.h.MOCsig.YYYY.nc'\n",
    "outdir = '/glade/scratch/yeager/BSPNA'"
   ]
  },
  {
   "cell_type": "code",
   "execution_count": 14,
   "metadata": {},
   "outputs": [],
   "source": [
    "ystart=104\n",
    "yend=115\n",
    "fdir = '/glade/campaign/collections/cmip/CMIP6/iHESP/HighResMIP/B1950cntl/HR/B.E.13.B1950C5.ne120_t12.cesm-ihesp-1950cntl.013/ocn/proc/tseries/month_1/'\n",
    "fin_tmp = 'B.E.13.B1950C5.ne120_t12.cesm-ihesp-1950cntl.013.pop.h.VVV.YYYY01-YYYY12.nc'\n",
    "fin_tmp_out = 'B.E.13.B1950C5.ne120_t12.cesm-ihesp-1950cntl.013.pop.h.MOCsig.YYYY.nc'\n",
    "outdir = '/glade/scratch/yeager/BSPNA'"
   ]
  },
  {
   "cell_type": "code",
   "execution_count": 14,
   "metadata": {},
   "outputs": [],
   "source": [
    "ystart=119\n",
    "yend=130\n",
    "fdir = '/glade/campaign/collections/cmip/CMIP6/iHESP/HighResMIP/B1950cntl/HR/B.E.13.B1950C5.ne120_t12.cesm-ihesp-1950cntl.013/ocn/proc/tseries/month_1/'\n",
    "fin_tmp = 'B.E.13.B1950C5.ne120_t12.cesm-ihesp-1950cntl.013.pop.h.VVV.YYYY01-YYYY12.nc'\n",
    "fin_tmp_out = 'B.E.13.B1950C5.ne120_t12.cesm-ihesp-1950cntl.013.pop.h.MOCsig.YYYY.nc'\n",
    "outdir = '/glade/scratch/yeager/BSPNA'"
   ]
  },
  {
   "cell_type": "code",
   "execution_count": 15,
   "metadata": {},
   "outputs": [
    {
     "name": "stdout",
     "output_type": "stream",
     "text": [
      "working on /glade/campaign/collections/cmip/CMIP6/iHESP/HighResMIP/B1950cntl/HR/B.E.13.B1950C5.ne120_t12.cesm-ihesp-1950cntl.013/ocn/proc/tseries/month_1/B.E.13.B1950C5.ne120_t12.cesm-ihesp-1950cntl.013.pop.h.VVEL.011901-011912.nc\n",
      "wrote /glade/scratch/yeager/BSPNA/B.E.13.B1950C5.ne120_t12.cesm-ihesp-1950cntl.013.pop.h.MOCsig.0119.nc at Sun Oct  1 07:19:18 2023\n",
      "working on /glade/campaign/collections/cmip/CMIP6/iHESP/HighResMIP/B1950cntl/HR/B.E.13.B1950C5.ne120_t12.cesm-ihesp-1950cntl.013/ocn/proc/tseries/month_1/B.E.13.B1950C5.ne120_t12.cesm-ihesp-1950cntl.013.pop.h.VVEL.012001-012012.nc\n",
      "wrote /glade/scratch/yeager/BSPNA/B.E.13.B1950C5.ne120_t12.cesm-ihesp-1950cntl.013.pop.h.MOCsig.0120.nc at Sun Oct  1 07:24:10 2023\n",
      "working on /glade/campaign/collections/cmip/CMIP6/iHESP/HighResMIP/B1950cntl/HR/B.E.13.B1950C5.ne120_t12.cesm-ihesp-1950cntl.013/ocn/proc/tseries/month_1/B.E.13.B1950C5.ne120_t12.cesm-ihesp-1950cntl.013.pop.h.VVEL.012101-012112.nc\n",
      "wrote /glade/scratch/yeager/BSPNA/B.E.13.B1950C5.ne120_t12.cesm-ihesp-1950cntl.013.pop.h.MOCsig.0121.nc at Sun Oct  1 07:26:26 2023\n",
      "working on /glade/campaign/collections/cmip/CMIP6/iHESP/HighResMIP/B1950cntl/HR/B.E.13.B1950C5.ne120_t12.cesm-ihesp-1950cntl.013/ocn/proc/tseries/month_1/B.E.13.B1950C5.ne120_t12.cesm-ihesp-1950cntl.013.pop.h.VVEL.012201-012212.nc\n",
      "wrote /glade/scratch/yeager/BSPNA/B.E.13.B1950C5.ne120_t12.cesm-ihesp-1950cntl.013.pop.h.MOCsig.0122.nc at Sun Oct  1 07:35:43 2023\n",
      "working on /glade/campaign/collections/cmip/CMIP6/iHESP/HighResMIP/B1950cntl/HR/B.E.13.B1950C5.ne120_t12.cesm-ihesp-1950cntl.013/ocn/proc/tseries/month_1/B.E.13.B1950C5.ne120_t12.cesm-ihesp-1950cntl.013.pop.h.VVEL.012301-012312.nc\n",
      "wrote /glade/scratch/yeager/BSPNA/B.E.13.B1950C5.ne120_t12.cesm-ihesp-1950cntl.013.pop.h.MOCsig.0123.nc at Sun Oct  1 07:38:04 2023\n",
      "working on /glade/campaign/collections/cmip/CMIP6/iHESP/HighResMIP/B1950cntl/HR/B.E.13.B1950C5.ne120_t12.cesm-ihesp-1950cntl.013/ocn/proc/tseries/month_1/B.E.13.B1950C5.ne120_t12.cesm-ihesp-1950cntl.013.pop.h.VVEL.012401-012412.nc\n",
      "wrote /glade/scratch/yeager/BSPNA/B.E.13.B1950C5.ne120_t12.cesm-ihesp-1950cntl.013.pop.h.MOCsig.0124.nc at Sun Oct  1 07:44:31 2023\n",
      "working on /glade/campaign/collections/cmip/CMIP6/iHESP/HighResMIP/B1950cntl/HR/B.E.13.B1950C5.ne120_t12.cesm-ihesp-1950cntl.013/ocn/proc/tseries/month_1/B.E.13.B1950C5.ne120_t12.cesm-ihesp-1950cntl.013.pop.h.VVEL.012501-012512.nc\n",
      "wrote /glade/scratch/yeager/BSPNA/B.E.13.B1950C5.ne120_t12.cesm-ihesp-1950cntl.013.pop.h.MOCsig.0125.nc at Sun Oct  1 07:46:52 2023\n",
      "working on /glade/campaign/collections/cmip/CMIP6/iHESP/HighResMIP/B1950cntl/HR/B.E.13.B1950C5.ne120_t12.cesm-ihesp-1950cntl.013/ocn/proc/tseries/month_1/B.E.13.B1950C5.ne120_t12.cesm-ihesp-1950cntl.013.pop.h.VVEL.012601-012612.nc\n",
      "wrote /glade/scratch/yeager/BSPNA/B.E.13.B1950C5.ne120_t12.cesm-ihesp-1950cntl.013.pop.h.MOCsig.0126.nc at Sun Oct  1 07:49:21 2023\n",
      "working on /glade/campaign/collections/cmip/CMIP6/iHESP/HighResMIP/B1950cntl/HR/B.E.13.B1950C5.ne120_t12.cesm-ihesp-1950cntl.013/ocn/proc/tseries/month_1/B.E.13.B1950C5.ne120_t12.cesm-ihesp-1950cntl.013.pop.h.VVEL.012701-012712.nc\n",
      "wrote /glade/scratch/yeager/BSPNA/B.E.13.B1950C5.ne120_t12.cesm-ihesp-1950cntl.013.pop.h.MOCsig.0127.nc at Sun Oct  1 07:51:41 2023\n",
      "working on /glade/campaign/collections/cmip/CMIP6/iHESP/HighResMIP/B1950cntl/HR/B.E.13.B1950C5.ne120_t12.cesm-ihesp-1950cntl.013/ocn/proc/tseries/month_1/B.E.13.B1950C5.ne120_t12.cesm-ihesp-1950cntl.013.pop.h.VVEL.012801-012812.nc\n",
      "wrote /glade/scratch/yeager/BSPNA/B.E.13.B1950C5.ne120_t12.cesm-ihesp-1950cntl.013.pop.h.MOCsig.0128.nc at Sun Oct  1 08:01:08 2023\n",
      "working on /glade/campaign/collections/cmip/CMIP6/iHESP/HighResMIP/B1950cntl/HR/B.E.13.B1950C5.ne120_t12.cesm-ihesp-1950cntl.013/ocn/proc/tseries/month_1/B.E.13.B1950C5.ne120_t12.cesm-ihesp-1950cntl.013.pop.h.VVEL.012901-012912.nc\n",
      "wrote /glade/scratch/yeager/BSPNA/B.E.13.B1950C5.ne120_t12.cesm-ihesp-1950cntl.013.pop.h.MOCsig.0129.nc at Sun Oct  1 08:03:33 2023\n",
      "working on /glade/campaign/collections/cmip/CMIP6/iHESP/HighResMIP/B1950cntl/HR/B.E.13.B1950C5.ne120_t12.cesm-ihesp-1950cntl.013/ocn/proc/tseries/month_1/B.E.13.B1950C5.ne120_t12.cesm-ihesp-1950cntl.013.pop.h.VVEL.013001-013012.nc\n",
      "wrote /glade/scratch/yeager/BSPNA/B.E.13.B1950C5.ne120_t12.cesm-ihesp-1950cntl.013.pop.h.MOCsig.0130.nc at Sun Oct  1 08:06:59 2023\n",
      "CPU times: user 17min 23s, sys: 1min 49s, total: 19min 13s\n",
      "Wall time: 50min 10s\n"
     ]
    }
   ],
   "source": [
    "%%time\n",
    "for n in np.arange(ystart,yend+1,1):\n",
    "    yrstr = str(n).zfill(4)\n",
    "    fin = fdir+fin_tmp.replace('YYYY',yrstr).replace('VVV','VVEL')\n",
    "    print(\"working on {}\".format(fin))\n",
    "    dsV = time_set_midmonth(xr.open_dataset(fin, chunks={'time':1,'nlon':100}),'time')\n",
    "    fin = fdir+fin_tmp.replace('YYYY',yrstr).replace('VVV','UVEL')\n",
    "    dsU = time_set_midmonth(xr.open_dataset(fin, chunks={'time':1,'nlon':100}),'time')\n",
    "    fin = fdir+fin_tmp.replace('YYYY',yrstr).replace('VVV','TEMP')\n",
    "    dsT = time_set_midmonth(xr.open_dataset(fin, chunks={'time':1,'nlon':100}),'time')\n",
    "    fin = fdir+fin_tmp.replace('YYYY',yrstr).replace('VVV','SALT')\n",
    "    dsS = time_set_midmonth(xr.open_dataset(fin, chunks={'time':1,'nlon':100}),'time')\n",
    "    \n",
    "    \n",
    "    u_e = dsU['UVEL']\n",
    "    u_e = u_e.where(u_e<1.e30,0)\n",
    "    v_e = dsV['VVEL']\n",
    "    v_e = v_e.where(v_e<1.e30,0)\n",
    "    salt = dsS['SALT']\n",
    "    temp = dsT['TEMP']\n",
    "\n",
    "    # Sigma2 on model TLAT, TLONG\n",
    "    sigma2_T = pop_tools.eos(salt=salt,temp=temp,depth=refdep) - 1000\n",
    "    sigma2_T = sigma2_T.assign_attrs({'long_name':'Sigma referenced to {}m'.format(refz),'units':'kg/m^3'})\n",
    "\n",
    "    # Grid-oriented Volume FLuxes:\n",
    "    u_e = (u_e*dyu*dzu/1.e4).assign_attrs({'units':'m^3/s'})\n",
    "    v_e = (v_e*dxu*dzu/1.e4).assign_attrs({'units':'m^3/s'})\n",
    "\n",
    "    # Convert u_e,v_e to C-grid fluxes\n",
    "    u = 0.5*(u_e+u_e.shift(nlat=1))\n",
    "    v = 0.5*(v_e+v_e.roll(nlon=1,roll_coords=False))\n",
    "\n",
    "    # Volume fluxes in density-space. \n",
    "    iso_uflux = histogram(sigma2_T, bins=[sigma_edge.values],weights=u,dim=['z_t'],density=False)\n",
    "    iso_uflux = iso_uflux.rename({'density_bin':'sigma'}).assign_coords({'sigma':sigma_mid})\n",
    "    iso_vflux = histogram(sigma2_T, bins=[sigma_edge.values],weights=v,dim=['z_t'],density=False)\n",
    "    iso_vflux = iso_vflux.rename({'density_bin':'sigma'}).assign_coords({'sigma':sigma_mid})\n",
    "\n",
    "    # Compute Vertical Volume Flux from horizontal flux convergence\n",
    "    wflux = popmoc.wflux(iso_uflux,iso_vflux,'sigma',sigma_edge,grid='C')\n",
    "    wflux = wflux.assign_coords({'TLAT':tlat,'TLONG':tlon})\n",
    "\n",
    "    # Compute MOC\n",
    "    MOC = popmoc.compute_MOC(wflux,rmaskmoc,ds_moctemp.lat_aux_grid)\n",
    "    MOC = MOC.transpose('time','transport_reg','sigma','lat_aux_grid')\n",
    "    MOC = dask.optimize(MOC)[0]\n",
    "\n",
    "    # add vflux at southern boundary of Atlantic domain\n",
    "    tmp = iso_vflux*(rmaskmoc.shift(nlat=-1))\n",
    "    tmp = tmp.isel(nlat=atl_j,transport_reg=1).sum('nlon')\n",
    "    moc_s = -tmp.sortby('sigma',ascending=False).cumsum('sigma').sortby('sigma',ascending=True)/1.e6\n",
    "    moc_s['sigma'] = sigma_edge.isel(sigma=slice(0,-1))\n",
    "    MOC[{'transport_reg':1}] = MOC[{'transport_reg':1}] + moc_s\n",
    "\n",
    "    # Save to netcdf\n",
    "    MOCann = MOC.groupby('time.year').mean('time').rename({'year':'time'})\n",
    "    dsout = MOCann.to_dataset()\n",
    "\n",
    "    fout = fin_tmp_out.replace('YYYY',yrstr)\n",
    "    fout = os.path.join(outdir,fout)\n",
    "    dsout.to_netcdf(fout,unlimited_dims='time')\n",
    "    print(\"wrote {} at {}\".format(fout, time.ctime()))"
   ]
  },
  {
   "cell_type": "code",
   "execution_count": null,
   "metadata": {},
   "outputs": [],
   "source": []
  }
 ],
 "metadata": {
  "kernelspec": {
   "display_name": "Python [conda env:mypythonenv]",
   "language": "python",
   "name": "conda-env-mypythonenv-py"
  },
  "language_info": {
   "codemirror_mode": {
    "name": "ipython",
    "version": 3
   },
   "file_extension": ".py",
   "mimetype": "text/x-python",
   "name": "python",
   "nbconvert_exporter": "python",
   "pygments_lexer": "ipython3",
   "version": "3.10.8"
  }
 },
 "nbformat": 4,
 "nbformat_minor": 4
}
